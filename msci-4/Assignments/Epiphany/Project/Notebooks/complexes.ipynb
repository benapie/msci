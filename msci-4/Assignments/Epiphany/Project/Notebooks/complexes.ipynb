{
 "cells": [
  {
   "cell_type": "markdown",
   "source": [
    "# Require imports"
   ],
   "metadata": {
    "collapsed": false,
    "pycharm": {
     "name": "#%% md\n"
    }
   }
  },
  {
   "cell_type": "code",
   "execution_count": 1,
   "outputs": [],
   "source": [
    "from __future__ import annotations\n",
    "from typing import Dict\n",
    "from collections.abc import Hashable\n",
    "from itertools import combinations\n",
    "from copy import deepcopy\n",
    "from random import random, choice\n",
    "import numpy\n",
    "import miniball\n",
    "\n",
    "\n",
    "def dist(vec_x: tuple[float, ...], vec_y: tuple[float, ...], p: float = 2) -> float:\n",
    "    if len(vec_x) != len(vec_y):\n",
    "        raise Exception(\"Vectors don't match.\")\n",
    "    total = 0\n",
    "    for x, y in zip(vec_x, vec_y):\n",
    "        total += abs(x - y) ** p\n",
    "    return total ** (1 / p)\n",
    "\n",
    "\n",
    "def generate_random_point_cloud(number_of_points: int, dimension: int = 3, lower_bound: float = 0,\n",
    "                                upper_bound: float = 1, dp: int = -1) -> set[tuple[float, ...]]:\n",
    "    if not number_of_points > 0:\n",
    "        raise Exception(\"Number of points must be positive.\")\n",
    "    if not dimension > 0:\n",
    "        raise Exception(\"Dimension must be positive.\")\n",
    "    if not lower_bound < upper_bound:\n",
    "        raise Exception(\"Lower bound must be less than upper bound.\")\n",
    "    if not dp >= -1:\n",
    "        raise Exception(\"dp must be -1 (no rounding) or non-negative.\")\n",
    "    bound_width = upper_bound - lower_bound\n",
    "    point_cloud = set()\n",
    "    for i in range(number_of_points):\n",
    "        if dp == -1:\n",
    "            point = tuple((random() * bound_width) + lower_bound for _ in range(dimension))\n",
    "        else:\n",
    "            point = tuple(round((random() * bound_width) + lower_bound, dp) for _ in range(dimension))\n",
    "\n",
    "        point_cloud.add(point)\n",
    "    return point_cloud"
   ],
   "metadata": {
    "collapsed": false,
    "pycharm": {
     "name": "#%%\n"
    }
   }
  },
  {
   "cell_type": "code",
   "execution_count": 110,
   "outputs": [],
   "source": [
    "def __is_hashable__(obj: object):\n",
    "    return isinstance(obj, Hashable)\n",
    "\n",
    "\n",
    "def __is_valid_simplex__(simplex: set[object]):\n",
    "    for vertex in simplex:\n",
    "        if not __is_hashable__(vertex):\n",
    "            return False\n",
    "    return True\n",
    "\n",
    "\n",
    "class AbstractSimplicialComplex:\n",
    "    def __init__(self, vertices: set[object]):\n",
    "        for vertex in vertices:\n",
    "            if not __is_hashable__(vertex):\n",
    "                raise Exception(\"Must have hashable types.\")\n",
    "        self.vertices = vertices\n",
    "        self.simplices = {0: []}\n",
    "        for vertex in self.vertices:\n",
    "            self.simplices[0].append({vertex})\n",
    "\n",
    "    def __str__(self):\n",
    "        output = [\"-\" * 50, \"\\n\"]\n",
    "        max_simplex_count = 0\n",
    "        for dim_simplices in self.simplices.values():\n",
    "            if len(dim_simplices) > max_simplex_count:\n",
    "                max_simplex_count = len(dim_simplices)\n",
    "        if not max_simplex_count < 20:\n",
    "            for dim, dim_simplices in sorted(self.simplices.items()):\n",
    "                output.append(f\"{str(dim)}: {str(len(dim_simplices))} simplices \\n\")\n",
    "            output.append(\"-\" * 50)\n",
    "            output.append(\"\\n\\n\")\n",
    "            return \"\".join(output)\n",
    "\n",
    "        for dim, dim_simplices in sorted(self.simplices.items()):\n",
    "            output.append(f\"{str(dim)}\\n\")\n",
    "            for simplex in dim_simplices:\n",
    "                output.append(f\"{str(simplex)}\\n\")\n",
    "            output[-1] = f\"{output[len(output) - 1][:-2]}\\n\\n\"\n",
    "        output[-1] = output[-1][:-1]\n",
    "        output.append(\"-\" * 50)\n",
    "        output.append(\"\\n\\n\")\n",
    "        return \"\".join(output)\n",
    "\n",
    "    def __repr__(self):\n",
    "        return self.__str__()\n",
    "\n",
    "    def add_vertex(self, vertex: object) -> None:\n",
    "        if vertex in self.vertices:\n",
    "            return\n",
    "        self.vertices.add(vertex)\n",
    "        self.simplices[0].append({vertex})\n",
    "\n",
    "    def add_simplex(self, simplex: set[object]) -> None:\n",
    "        if not simplex.issubset(self.vertices):\n",
    "            raise Exception(\"Simplex is not a subset of the vertices.\")\n",
    "        if len(simplex) == 0:\n",
    "            raise Exception(\"Empty input.\")\n",
    "        if len(simplex) == 1:\n",
    "            raise Exception(\"To add vertices, use add_vertex.\")\n",
    "        dim = len(simplex) - 1\n",
    "        if dim - 1 not in self.simplices:\n",
    "            raise Exception(\n",
    "                \"A face of this simplex is not in this complex, use force_add_simplex to force all faces in.\")\n",
    "        for vertex in simplex:\n",
    "            face = simplex.difference({vertex})\n",
    "            if face not in self.simplices[dim - 1]:\n",
    "                raise Exception(\n",
    "                    f\"The face {face} of this simplex is not in this complex, use force_add_simplex to force all faces in.\")\n",
    "        if dim not in self.simplices:\n",
    "            self.simplices[dim] = list()\n",
    "        self.simplices[dim].append(simplex)\n",
    "\n",
    "    def force_add_simplex(self, simplex: set[object]) -> None:\n",
    "        if not __is_valid_simplex__(simplex):\n",
    "            raise Exception(\"Simplex contains unhashable types.\")\n",
    "        dim = len(simplex) - 1\n",
    "        if dim not in self.simplices:\n",
    "            self.simplices[dim] = []\n",
    "        if simplex in self.simplices[dim]:\n",
    "            return\n",
    "        for vertex in simplex:\n",
    "            if vertex not in self.vertices:\n",
    "                self.vertices.add(vertex)\n",
    "                self.simplices[0].append({vertex})\n",
    "        for l in range(2, len(simplex)):\n",
    "            face_dim = l - 1\n",
    "            if face_dim not in self.simplices:\n",
    "                self.simplices[face_dim] = []\n",
    "            for face_tuple in combinations(simplex, l):\n",
    "                face = set(face_tuple)\n",
    "                if face not in self.simplices[face_dim]:\n",
    "                    self.simplices[face_dim].append(face)\n",
    "        self.simplices[dim].append(simplex)\n",
    "\n",
    "    def get_p_simplices(self, p: int) -> list[set[object]] | None:\n",
    "        if p < 0:\n",
    "            raise Exception(\"p must be non-negative.\")\n",
    "        if p not in self.simplices:\n",
    "            return None\n",
    "        return deepcopy(self.simplices[p])\n",
    "\n",
    "    def get_vertices(self) -> set[object]:\n",
    "        return self.vertices"
   ],
   "metadata": {
    "collapsed": false,
    "pycharm": {
     "name": "#%%\n"
    }
   }
  },
  {
   "cell_type": "markdown",
   "source": [
    "# Cech complex"
   ],
   "metadata": {
    "collapsed": false
   }
  },
  {
   "cell_type": "markdown",
   "source": [
    "## Miniball"
   ],
   "metadata": {
    "collapsed": false,
    "pycharm": {
     "name": "#%% md\n"
    }
   }
  },
  {
   "cell_type": "markdown",
   "source": [
    "First we implement the Cech complex."
   ],
   "metadata": {
    "collapsed": false,
    "pycharm": {
     "name": "#%% md\n"
    }
   }
  },
  {
   "cell_type": "code",
   "execution_count": 120,
   "outputs": [],
   "source": [
    "class FilteredCechComplex:\n",
    "    def __init__(self, point_cloud: numpy.ndarray, dimension_limit: int | None = 5):\n",
    "        self.dimension_limit = dimension_limit\n",
    "        self.point_cloud = point_cloud\n",
    "        self.vertices = set(map(tuple, point_cloud))\n",
    "        if dimension_limit is None:\n",
    "            dimension_limit = len(point_cloud)\n",
    "        simplices_r = []\n",
    "        for l in range(2, dimension_limit+1):\n",
    "            for elem_tuple in combinations(point_cloud, l):\n",
    "                _, r = miniball.get_bounding_ball(numpy.array(elem_tuple))\n",
    "                simplex_r = {\n",
    "                    \"simplex\": set(map(tuple, elem_tuple)),\n",
    "                    \"radius\": r\n",
    "                }\n",
    "                simplices_r.append(simplex_r)\n",
    "        self.filtration = sorted(simplices_r, key=lambda k: (round(k[\"radius\"], 5), len(k[\"simplex\"])))\n",
    "\n",
    "    def get_filtration_depth(self) -> int:\n",
    "        return len(self.filtration) + len(self.vertices)\n",
    "\n",
    "    def get_complex(self, filtration_level: int) -> AbstractSimplicialComplex:\n",
    "        if filtration_level == 0:\n",
    "            return AbstractSimplicialComplex(set())\n",
    "        if filtration_level < 0:\n",
    "            raise ValueError(\"filtration_level must be non-negative.\")\n",
    "        filtration_depth = self.get_filtration_depth()\n",
    "        if filtration_level > filtration_depth:\n",
    "            raise ValueError(f\"filtration_level is greater then the filtration depth of {filtration_depth}.\")\n",
    "        asc = AbstractSimplicialComplex(self.vertices)\n",
    "        vertex_count = len(self.vertices)\n",
    "        for i in range(filtration_level - vertex_count):\n",
    "            simplex = self.filtration[i][\"simplex\"]\n",
    "            asc.add_simplex(simplex)\n",
    "        return asc"
   ],
   "metadata": {
    "collapsed": false,
    "pycharm": {
     "name": "#%%\n"
    }
   }
  },
  {
   "cell_type": "code",
   "execution_count": 135,
   "outputs": [],
   "source": [
    "p_cloud = numpy.random.randn(10, 2)\n",
    "f_complex = FilteredCechComplex(p_cloud, dimension_limit=None)"
   ],
   "metadata": {
    "collapsed": false,
    "pycharm": {
     "name": "#%%\n"
    }
   }
  },
  {
   "cell_type": "code",
   "execution_count": 136,
   "outputs": [
    {
     "name": "stdout",
     "output_type": "stream",
     "text": [
      "--------------------------------------------------\n",
      "0: 10 simplices \n",
      "1: 45 simplices \n",
      "2: 120 simplices \n",
      "3: 210 simplices \n",
      "4: 252 simplices \n",
      "5: 210 simplices \n",
      "6: 120 simplices \n",
      "7: 45 simplices \n",
      "8: 10 simplices \n",
      "9: 1 simplices \n",
      "--------------------------------------------------\n",
      "\n",
      "\n"
     ]
    }
   ],
   "source": [
    "print(f_complex.get_complex(f_complex.get_filtration_depth()))"
   ],
   "metadata": {
    "collapsed": false,
    "pycharm": {
     "name": "#%%\n"
    }
   }
  },
  {
   "cell_type": "code",
   "execution_count": 4,
   "outputs": [],
   "source": [],
   "metadata": {
    "collapsed": false,
    "pycharm": {
     "name": "#%%\n"
    }
   }
  }
 ],
 "metadata": {
  "kernelspec": {
   "display_name": "Python 3",
   "language": "python",
   "name": "python3"
  },
  "language_info": {
   "codemirror_mode": {
    "name": "ipython",
    "version": 2
   },
   "file_extension": ".py",
   "mimetype": "text/x-python",
   "name": "python",
   "nbconvert_exporter": "python",
   "pygments_lexer": "ipython2",
   "version": "2.7.6"
  }
 },
 "nbformat": 4,
 "nbformat_minor": 0
}