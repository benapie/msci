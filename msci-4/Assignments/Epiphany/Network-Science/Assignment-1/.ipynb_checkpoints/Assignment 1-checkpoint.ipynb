{
 "cells": [
  {
   "cell_type": "markdown",
   "metadata": {},
   "source": [
    "# Networks and their Structure Assignment\n",
    "\n",
    "## Network Science Topic 1\n",
    "\n",
    "Note that the networks in this exercise are all directed."
   ]
  },
  {
   "cell_type": "markdown",
   "metadata": {},
   "source": [
    "1. *[15 marks] Obtain the code and dataset (under Topic 1 on Learn Ultra) and load the ``citation_graph``.  Two vertices $u$ and $v$ are *connected* in this graph if there is a path from $u$ to $v$ or from $v$ to $u$ (or both).  A *connected component* of the graph is a maximal set of vertices such that each pair of vertices is connected.  How many vertices are there in the largest connected component of the ``citation_graph``?  Let $G$ be the graph formed by the largest connected component of the ``citation_graph`` (that is, obtain $G$ by removing all vertices not in the largest connected component).  Create two plots showing the normalized distributions of the in-degree and out-degree of $G$.*"
   ]
  },
  {
   "cell_type": "code",
   "execution_count": 1,
   "metadata": {},
   "outputs": [],
   "source": [
    "from typing import Dict\n",
    "from IPython.display import clear_output\n",
    "import matplotlib.pyplot as plt\n",
    "import random\n",
    "\n",
    "def print_status_bar(progress: float, block_count: int = 10) -> None:\n",
    "    clear_output(wait=True)\n",
    "    dark_string = \"▓\" * round(progress * block_count)\n",
    "    light_string = \"░\" * (block_count - len(dark_string))\n",
    "    print(f\"[{dark_string}{light_string}]\")"
   ]
  },
  {
   "cell_type": "code",
   "execution_count": 2,
   "metadata": {},
   "outputs": [
    {
     "name": "stdout",
     "output_type": "stream",
     "text": [
      "Loaded graph with 27770 nodes\n"
     ]
    }
   ],
   "source": [
    "def compute_in_degrees(g: Dict[int, list[int]]) -> Dict[int, int]:\n",
    "    i_degs = {}\n",
    "    for v in g:\n",
    "        i_degs[v] = 0\n",
    "    for v in g:\n",
    "        for nghbr in g[v]:\n",
    "            if nghbr not in i_degs:\n",
    "                continue\n",
    "            i_degs[nghbr] += 1\n",
    "    return i_degs\n",
    "\n",
    "\n",
    "def compute_out_degrees(g: Dict[int, list[int]]) -> Dict[int, int]:\n",
    "    o_degs = {}\n",
    "    for v in g:\n",
    "        o_degs[v] = len(g[v])\n",
    "    return o_degs\n",
    "\n",
    "\n",
    "def in_degree_freq_dist(g: Dict[int, list[int]]) -> Dict[int, int]:\n",
    "    i_degs = compute_in_degrees(g)\n",
    "    freq_dist = {}\n",
    "    for v in i_degs:\n",
    "        if i_degs[v] in freq_dist:\n",
    "            freq_dist[i_degs[v]] += 1\n",
    "        else:\n",
    "            freq_dist[i_degs[v]] = 1\n",
    "    return freq_dist\n",
    "\n",
    "\n",
    "def out_degree_freq_dist(g: Dict[int, list[int]]) -> Dict[int, int]:\n",
    "    o_degs = compute_out_degrees(g)\n",
    "    freq_dist = {}\n",
    "    for v in o_degs:\n",
    "        if o_degs[v] in freq_dist:\n",
    "            freq_dist[o_degs[v]] += 1\n",
    "        else:\n",
    "            freq_dist[o_degs[v]] = 1\n",
    "    return freq_dist\n",
    "\n",
    "\n",
    "def load_graph(raw: str) -> Dict[int, list[int]]:\n",
    "    g = open(raw)\n",
    "    ag = {}\n",
    "    ns = 0\n",
    "    for l in g:\n",
    "        nghbrs = l.split(' ')\n",
    "        n = int(nghbrs[0])\n",
    "        ag[n] = set([])\n",
    "        for nghbr in nghbrs[1: -1]:\n",
    "            ag[n].add(int(nghbr))\n",
    "        ns += 1\n",
    "    print(\"Loaded graph with\", ns, \"nodes\")\n",
    "    return ag\n",
    "\n",
    "\n",
    "citation_graph = load_graph(\"alg_phys-cite.txt\")"
   ]
  },
  {
   "cell_type": "code",
   "execution_count": 3,
   "metadata": {},
   "outputs": [],
   "source": [
    "def undirect(g: Dict[int, list[int]]) -> Dict[int, list[int]]:\n",
    "    und_g = {}\n",
    "    for v in g:\n",
    "        und_g[v] = set(g[v].copy())\n",
    "    for v in g:\n",
    "        for nghbr in g[v]:\n",
    "            und_g[nghbr].add(v)\n",
    "    for v in g:\n",
    "        und_g[v] = list(und_g[v])\n",
    "    return und_g\n",
    "\n",
    "\n",
    "un_citation_graph = undirect(citation_graph)\n"
   ]
  },
  {
   "cell_type": "code",
   "execution_count": null,
   "metadata": {
    "pycharm": {
     "is_executing": true
    }
   },
   "outputs": [],
   "source": [
    "def bfs(g: Dict[int, list[int]], node: int) -> list[int]:\n",
    "    vstd = set([node])\n",
    "    q = [node]\n",
    "    while q:\n",
    "        v = q.pop(0)\n",
    "        for nghbr in g[v]:\n",
    "            if nghbr not in vstd:\n",
    "                vstd.add(nghbr)\n",
    "                q.append(nghbr)\n",
    "    return list(vstd)\n",
    "\n",
    "\n",
    "def get_ccs(g: Dict[int, list[int]]) -> list[list[int]]:\n",
    "    ccs = []\n",
    "    vs = set(list(g.keys()))\n",
    "    while vs:\n",
    "        clear_output(wait=True)\n",
    "        print(f\"Current number of components: {len(ccs)}\")\n",
    "        print(f\"Unvisited nodes remaining: {len(vs)}\")\n",
    "        b = bfs(g, vs.pop())\n",
    "        ccs.append(b.copy())\n",
    "        vs = vs.difference(b)\n",
    "    return ccs\n",
    "\n",
    "\n",
    "ccs = get_ccs(un_citation_graph)\n",
    "max_cc = max(ccs, key=lambda k: len(k))\n",
    "\n",
    "\n",
    "clear_output(wait=True)\n",
    "print(\n",
    "    f\"Found {len(ccs)} connected components, with largest having {len(max_cc)} nodes.\")\n"
   ]
  },
  {
   "cell_type": "code",
   "execution_count": null,
   "metadata": {
    "pycharm": {
     "is_executing": true
    }
   },
   "outputs": [],
   "source": [
    "def loglog_plot(xdata, ydata, title, xlabel):\n",
    "    plt.rcParams[\"figure.figsize\"] = (10, 10)\n",
    "    plt.xlabel(xlabel)\n",
    "    plt.ylabel(\"Normalized Rate\")\n",
    "    plt.title(title)\n",
    "    plt.loglog(xdata, ydata, marker=\".\", linestyle=\"None\", color=\"b\")\n",
    "    plt.show()"
   ]
  },
  {
   "cell_type": "code",
   "execution_count": null,
   "metadata": {
    "pycharm": {
     "is_executing": true
    }
   },
   "outputs": [],
   "source": [
    "def get_ind_graph_from_cc(ig: Dict[int, list[int]], v_set: list[int]) -> Dict[int, list[int]]:\n",
    "    g = {}\n",
    "    for v in v_set:\n",
    "        g[v] = ig[v]\n",
    "    return g\n",
    "\n",
    "\n",
    "ind_max_cc = get_ind_graph_from_cc(citation_graph, max_cc)\n"
   ]
  },
  {
   "cell_type": "code",
   "execution_count": null,
   "metadata": {
    "pycharm": {
     "is_executing": true
    }
   },
   "outputs": [],
   "source": [
    "def norm_freq_dist(freq_dist: Dict[int, int]) -> Dict[int, int]:\n",
    "    n = 0\n",
    "    for freq in freq_dist.values():\n",
    "        n += freq\n",
    "    norm_freq_dist = {}\n",
    "    for cat in freq_dist:\n",
    "        norm_freq_dist[cat] = freq_dist[cat] / n\n",
    "    return norm_freq_dist\n",
    "\n",
    "\n",
    "def freq_dist_to_array(freq_dist: Dict[int, int]) -> Dict[int, int]:\n",
    "    xs, ys = [], []\n",
    "    for cat in freq_dist:\n",
    "        xs += [cat]\n",
    "        ys += [freq_dist[cat]]\n",
    "    return xs, ys\n",
    "\n",
    "\n",
    "def graph_to_in_degree_plot(g: Dict[int, list[int]]) -> None:\n",
    "    i_deg_freq_dist = in_degree_freq_dist(g)\n",
    "    norm_i_deg_freq_dist = norm_freq_dist(i_deg_freq_dist)\n",
    "    xs, ys = freq_dist_to_array(norm_i_deg_freq_dist)\n",
    "    loglog_plot(xs, ys, \"In-Degree Distribution of Largest Connected Component\", \"In-Degree\")\n",
    "\n",
    "\n",
    "def graph_to_out_degree_plot(g: Dict[int, list[int]]) -> None:\n",
    "    o_deg_freq_dist = out_degree_freq_dist(g)\n",
    "    norm_o_deg_freq_dist = norm_freq_dist(o_deg_freq_dist)\n",
    "    xs, ys = freq_dist_to_array(norm_o_deg_freq_dist)\n",
    "    loglog_plot(xs, ys, \"Out-Degree Distribution of Largest Connected Component\", \"Out-Degree\")\n",
    "\n",
    "\n",
    "# In-degrees\n",
    "graph_to_in_degree_plot(ind_max_cc)\n",
    "# ind_max_cc_i_deg_dist = in_degree_freq_dist(ind_max_cc)\n",
    "# norm_max_cc_i_deg_dist = norm_freq_dist(ind_max_cc_i_deg_dist)\n",
    "# xs, ys = freq_dist_to_array(norm_max_cc_i_deg_dist)\n",
    "# plot(xs, ys, \"In-Degree Distribution of Largest Connected Component\", \"In-Degree\")\n",
    "\n",
    "\n",
    "# Out-degrees\n",
    "graph_to_out_degree_plot(ind_max_cc)\n",
    "# ind_max_cc_o_deg_dist = out_degree_freq_dist(ind_max_cc)\n",
    "# norm_max_cc_o_deg_dist = norm_freq_dist(ind_max_cc_o_deg_dist)\n",
    "# xs, ys = freq_dist_to_array(norm_max_cc_o_deg_dist)\n",
    "# plot(xs, ys, \"Out-Degree Distribution of Largest Connected Component\", \"Out-Degree\")\n"
   ]
  },
  {
   "cell_type": "markdown",
   "metadata": {},
   "source": [
    "2. *[15 marks] Recall the PA graph model that constructed graphs one vertex at a time.  In this model the out-degrees were all (almost) the same.  Define a version of the model where the out-degree varies in a way that is similar to the distribution found for $G$ in Question 1.  Construct instances of the model and plot the normalized distributions of the in-degree and out-degree and compare them to those of $G$.  (Your model might turn out to be a poor model for $G$.  This does not matter as long as you can motivate your definition and implement it correctly.)*"
   ]
  },
  {
   "cell_type": "markdown",
   "metadata": {},
   "source": [
    "First, lets implement the $G(n,p)$ and $G(n,m)$ Erdős–Rényi models we saw in lectures."
   ]
  },
  {
   "cell_type": "code",
   "execution_count": null,
   "metadata": {
    "pycharm": {
     "is_executing": true
    }
   },
   "outputs": [],
   "source": [
    "def gnp(n: int, p: float) -> Dict[int, list[int]]:\n",
    "    g = {}\n",
    "    for v in range(n):\n",
    "        g[v] = []\n",
    "    debug_peroid = n / 160\n",
    "    for v in g:\n",
    "        if v % debug_peroid == 0:\n",
    "            print_status_bar(v/len(g), block_count=80)\n",
    "        for u in g:\n",
    "            if v == u:\n",
    "                continue\n",
    "            if random.random() < p:\n",
    "                g[v].append(u)\n",
    "    return g\n",
    "\n",
    "\n",
    "def gnm(n: int, m: int) -> Dict[int, list[int]]:\n",
    "    g = {}\n",
    "    for i in range(n):\n",
    "        g[i] = []\n",
    "    debug_peroid = m / 160\n",
    "    for i in range(m):\n",
    "        if i % debug_peroid == 0:\n",
    "            print_status_bar(i/m, block_count=80)\n",
    "        v, u = random.sample(list(g.keys()), 2)\n",
    "        g[v].append(u)\n",
    "    return g\n"
   ]
  },
  {
   "cell_type": "markdown",
   "metadata": {},
   "source": [
    "Now we look at an example of each graph."
   ]
  },
  {
   "cell_type": "code",
   "execution_count": null,
   "metadata": {
    "pycharm": {
     "is_executing": true
    }
   },
   "outputs": [],
   "source": [
    "ex_g_1 = gnp(1000, 0.2)\n",
    "ex_g_2 = gnm(1000, 10000)\n",
    "graph_to_out_degree_plot(ex_g_1)\n",
    "graph_to_out_degree_plot(ex_g_2)"
   ]
  },
  {
   "cell_type": "markdown",
   "metadata": {},
   "source": [
    "This is on a log plot, but we get the expected distributions (normal). We aim to use the concept of\n",
    "*preferential attachment* to make our out-degree frequency distribution similar to that of the \n",
    "citation graph. \n",
    "\n",
    "**Definition.** A **preferential attachment process** is any class of process in which some quantity \n",
    "is distributed among objects according to how much they already have. \n",
    "\n",
    "To frame this in context, we want an algorithm for generating random networks in which new nodes are\n",
    "more likely to connect to existing nodes that are well-connected. \n",
    "\n",
    "So first we pick a measure of well-connectedness. To start, we pick the in-degree of the node. We\n",
    "take the $G(n,p)$ model but modify it such that a new node is more likely to attach to a node with a\n",
    "higher in-degree. "
   ]
  },
  {
   "cell_type": "code",
   "execution_count": null,
   "metadata": {
    "pycharm": {
     "is_executing": true
    }
   },
   "outputs": [],
   "source": [
    "def generate_complete_graph(n: int) -> Dict[int, list[int]]:\n",
    "    complete_g = dict()\n",
    "    for i in range(n):\n",
    "        complete_g[i-n] = list(set(range(-n, 0)).difference([i-n]))\n",
    "    return complete_g\n",
    "\n",
    "\n",
    "def generate_disjoint_union_complete_graph(n: int, m:int) -> Dict[int, list[int]]:\n",
    "    disjoint_complete_g = dict()\n",
    "    for i in range(m):\n",
    "        for j in range(n):\n",
    "            disjoint_complete_g[-(m-i)*n + j] = list(set(range(-(m-i)*n, -(m-i)*n + n)).difference([i-n]))\n",
    "    return disjoint_complete_g\n",
    "\n",
    "\n",
    "def generate_star_graph(n: int) -> Dict[int, list[int]]:\n",
    "    star_g = dict()\n",
    "    star_g[-n] = []\n",
    "    for i in range(-n+1, 0):\n",
    "        star_g[i] = [-n]\n",
    "    return star_g\n",
    "\n",
    "\n",
    "def generate_disjoint_union_star_graph(n: int, m: int):\n",
    "    disjoint_star_g = dict()\n",
    "    for i in range(m):\n",
    "        disjoint_star_g[-(m-i)*n] = []\n",
    "        for j in range(n):\n",
    "            disjoint_star_g[-(m-i)*n + j] = [-(m-i)*n]\n",
    "    return disjoint_star_g\n",
    "\n",
    "\n",
    "def get_i_deg(g: Dict[int, list[int]]) -> Dict[int, list[int]]:\n",
    "    i_deg = dict()\n",
    "    for v in g:\n",
    "        i_deg[v] = 0\n",
    "    for v in g:\n",
    "        for u in g[v]:\n",
    "            i_deg[u] += 1\n",
    "    return i_deg\n",
    "\n",
    "\n",
    "def ba_model(g_init: Dict[int, list[int]], m, n) -> Dict[int, list[int]]:\n",
    "    def calculate_prob_edge(deg_dict: Dict[int, int], v: int):\n",
    "        if v not in deg_dict:\n",
    "            raise ValueError(\"v not in deg_dict\")\n",
    "        prob = deg_dict[v]\n",
    "        div = 0\n",
    "        for _, deg in deg_dict.items():\n",
    "            div += deg\n",
    "        return prob/div\n",
    "\n",
    "    g = g_init\n",
    "    g_i_deg = get_i_deg(g)\n",
    "\n",
    "    fitness = dict()\n",
    "    for i in g_init:\n",
    "        fitness[i] = random.random()\n",
    "    for i in range(n):\n",
    "        fitness[i] = random.random()\n",
    "\n",
    "    debug_period = n / 160\n",
    "    for i in range(n): # add new node\n",
    "        if i % debug_period == 0:\n",
    "            print_status_bar((i/n)**2, block_count=80)\n",
    "        adj_list = []\n",
    "        div = 0 \n",
    "        for j, deg in g_i_deg.items(): # sum in_degrees\n",
    "            div += fitness[j] * deg\n",
    "        if div != 0:\n",
    "            for v in g: # make connections\n",
    "                p = fitness[v] * g_i_deg[v] / div\n",
    "                if random.random() < p:\n",
    "                    adj_list.append(v)\n",
    "                    g_i_deg[v] += 1\n",
    "        # update graph\n",
    "        g[i] = adj_list\n",
    "        g_i_deg[i] = 0\n",
    "    return g\n",
    "\n",
    "\n",
    "\n",
    "my_g = ba_model(generate_disjoint_union_complete_graph(2, 20), 10, 10000)\n",
    "# in_degree_freq_dist(my_g)\n",
    "# print(in_degree_freq_dist(my_g))\n",
    "graph_to_out_degree_plot(my_g)\n",
    "\n",
    "# graphs = []\n",
    "# for i in range(1,10):\n",
    "#     my_g = ba_model(generate_disjoint_union_complete_graph(i, 100), 10, 1000)\n",
    "#     graphs.append(my_g)\n",
    "# for g in graphs:\n",
    "#     graph_to_out_degree_plot(g)\n"
   ]
  }
 ],
 "metadata": {
  "authors": [
   {
    "name": "Ben Napier"
   }
  ],
  "kernelspec": {
   "display_name": "Python 3 (ipykernel)",
   "language": "python",
   "name": "python3"
  },
  "language_info": {
   "codemirror_mode": {
    "name": "ipython",
    "version": 3
   },
   "file_extension": ".py",
   "mimetype": "text/x-python",
   "name": "python",
   "nbconvert_exporter": "python",
   "pygments_lexer": "ipython3",
   "version": "3.10.0"
  }
 },
 "nbformat": 4,
 "nbformat_minor": 2
}
